{
 "cells": [
  {
   "cell_type": "markdown",
   "metadata": {},
   "source": [
    "# PRIMERA CONEXIÓN API KAGGLE"
   ]
  },
  {
   "cell_type": "code",
   "execution_count": 28,
   "metadata": {},
   "outputs": [],
   "source": [
    "import kaggle\n",
    "#{\"username\":\"user_name_kaggle\",\"key\":\"key_json_kaggle\"}\n",
    "#Hola"
   ]
  },
  {
   "cell_type": "markdown",
   "metadata": {},
   "source": [
    "## USO KAGGLE API"
   ]
  },
  {
   "cell_type": "code",
   "execution_count": 27,
   "metadata": {},
   "outputs": [
    {
     "name": "stdout",
     "output_type": "stream",
     "text": [
      "Dataset URL: https://www.kaggle.com/datasets/sinderpreet/analyze-the-marketing-spending\n",
      "Descarga completada.\n"
     ]
    }
   ],
   "source": [
    "import os\n",
    "from kaggle.api.kaggle_api_extended import KaggleApi\n",
    "\n",
    "# Asegurar que el archivo kaggle.json existe\n",
    "kaggle_json_path = 'C:\\\\Users\\\\diego\\\\.kaggle\\\\kaggle.json'\n",
    "\n",
    "if not os.path.exists(kaggle_json_path):\n",
    "    raise FileNotFoundError(f\"No se encuentra el archivo: {kaggle_json_path}\")\n",
    "\n",
    "# Cambiar los permisos del archivo kaggle.json (esto es opcional en Windows, pero se deja para completitud)\n",
    "os.chmod(kaggle_json_path, 0o600)\n",
    "\n",
    "# Configurar la API de Kaggle para que use el archivo kaggle.json\n",
    "os.environ['KAGGLE_CONFIG_DIR'] = 'C:\\\\Users\\\\diego\\\\.kaggle'\n",
    "\n",
    "# Inicializar la API de Kaggle\n",
    "api = KaggleApi()\n",
    "api.authenticate()\n",
    "\n",
    "# Descargar el dataset utilizando la API de Kaggle\n",
    "dataset_url = 'sinderpreet/analyze-the-marketing-spending'\n",
    "api.dataset_download_files(dataset_url, path='.', unzip=True)\n",
    "\n",
    "print(\"Descarga completada.\")"
   ]
  },
  {
   "cell_type": "markdown",
   "metadata": {},
   "source": [
    "## IMPORTACIÓN DE LA BASE DESDE LOCAL"
   ]
  },
  {
   "cell_type": "code",
   "execution_count": 32,
   "metadata": {},
   "outputs": [
    {
     "data": {
      "text/html": [
       "<div>\n",
       "<style scoped>\n",
       "    .dataframe tbody tr th:only-of-type {\n",
       "        vertical-align: middle;\n",
       "    }\n",
       "\n",
       "    .dataframe tbody tr th {\n",
       "        vertical-align: top;\n",
       "    }\n",
       "\n",
       "    .dataframe thead th {\n",
       "        text-align: right;\n",
       "    }\n",
       "</style>\n",
       "<table border=\"1\" class=\"dataframe\">\n",
       "  <thead>\n",
       "    <tr style=\"text-align: right;\">\n",
       "      <th></th>\n",
       "      <th>id</th>\n",
       "      <th>c_date</th>\n",
       "      <th>campaign_name</th>\n",
       "      <th>category</th>\n",
       "      <th>campaign_id</th>\n",
       "      <th>impressions</th>\n",
       "      <th>mark_spent</th>\n",
       "      <th>clicks</th>\n",
       "      <th>leads</th>\n",
       "      <th>orders</th>\n",
       "      <th>revenue</th>\n",
       "    </tr>\n",
       "  </thead>\n",
       "  <tbody>\n",
       "    <tr>\n",
       "      <th>0</th>\n",
       "      <td>1</td>\n",
       "      <td>2021-02-01</td>\n",
       "      <td>facebook_tier1</td>\n",
       "      <td>social</td>\n",
       "      <td>349043</td>\n",
       "      <td>148263</td>\n",
       "      <td>7307.37</td>\n",
       "      <td>1210</td>\n",
       "      <td>13</td>\n",
       "      <td>1</td>\n",
       "      <td>4981.0</td>\n",
       "    </tr>\n",
       "    <tr>\n",
       "      <th>1</th>\n",
       "      <td>2</td>\n",
       "      <td>2021-02-01</td>\n",
       "      <td>facebOOK_tier2</td>\n",
       "      <td>social</td>\n",
       "      <td>348934</td>\n",
       "      <td>220688</td>\n",
       "      <td>16300.20</td>\n",
       "      <td>1640</td>\n",
       "      <td>48</td>\n",
       "      <td>3</td>\n",
       "      <td>14962.0</td>\n",
       "    </tr>\n",
       "    <tr>\n",
       "      <th>2</th>\n",
       "      <td>3</td>\n",
       "      <td>2021-02-01</td>\n",
       "      <td>google_hot</td>\n",
       "      <td>search</td>\n",
       "      <td>89459845</td>\n",
       "      <td>22850</td>\n",
       "      <td>5221.60</td>\n",
       "      <td>457</td>\n",
       "      <td>9</td>\n",
       "      <td>1</td>\n",
       "      <td>7981.0</td>\n",
       "    </tr>\n",
       "    <tr>\n",
       "      <th>3</th>\n",
       "      <td>4</td>\n",
       "      <td>2021-02-01</td>\n",
       "      <td>google_wide</td>\n",
       "      <td>search</td>\n",
       "      <td>127823</td>\n",
       "      <td>147038</td>\n",
       "      <td>6037.00</td>\n",
       "      <td>1196</td>\n",
       "      <td>24</td>\n",
       "      <td>1</td>\n",
       "      <td>2114.0</td>\n",
       "    </tr>\n",
       "    <tr>\n",
       "      <th>4</th>\n",
       "      <td>5</td>\n",
       "      <td>2021-02-01</td>\n",
       "      <td>youtube_blogger</td>\n",
       "      <td>influencer</td>\n",
       "      <td>10934</td>\n",
       "      <td>225800</td>\n",
       "      <td>29962.20</td>\n",
       "      <td>2258</td>\n",
       "      <td>49</td>\n",
       "      <td>10</td>\n",
       "      <td>84490.0</td>\n",
       "    </tr>\n",
       "  </tbody>\n",
       "</table>\n",
       "</div>"
      ],
      "text/plain": [
       "   id      c_date    campaign_name    category  campaign_id  impressions  \\\n",
       "0   1  2021-02-01   facebook_tier1      social       349043       148263   \n",
       "1   2  2021-02-01   facebOOK_tier2      social       348934       220688   \n",
       "2   3  2021-02-01       google_hot      search     89459845        22850   \n",
       "3   4  2021-02-01      google_wide      search       127823       147038   \n",
       "4   5  2021-02-01  youtube_blogger  influencer        10934       225800   \n",
       "\n",
       "   mark_spent  clicks  leads  orders  revenue  \n",
       "0     7307.37    1210     13       1   4981.0  \n",
       "1    16300.20    1640     48       3  14962.0  \n",
       "2     5221.60     457      9       1   7981.0  \n",
       "3     6037.00    1196     24       1   2114.0  \n",
       "4    29962.20    2258     49      10  84490.0  "
      ]
     },
     "execution_count": 32,
     "metadata": {},
     "output_type": "execute_result"
    }
   ],
   "source": [
    "import pandas as pd\n",
    "marketing = pd.read_csv('Marketing.csv',sep=',')\n",
    "marketing.head()"
   ]
  },
  {
   "cell_type": "code",
   "execution_count": 33,
   "metadata": {},
   "outputs": [
    {
     "name": "stdout",
     "output_type": "stream",
     "text": [
      "<class 'pandas.core.frame.DataFrame'>\n",
      "RangeIndex: 308 entries, 0 to 307\n",
      "Data columns (total 11 columns):\n",
      " #   Column         Non-Null Count  Dtype  \n",
      "---  ------         --------------  -----  \n",
      " 0   id             308 non-null    int64  \n",
      " 1   c_date         308 non-null    object \n",
      " 2   campaign_name  308 non-null    object \n",
      " 3   category       308 non-null    object \n",
      " 4   campaign_id    308 non-null    int64  \n",
      " 5   impressions    308 non-null    int64  \n",
      " 6   mark_spent     308 non-null    float64\n",
      " 7   clicks         308 non-null    int64  \n",
      " 8   leads          308 non-null    int64  \n",
      " 9   orders         308 non-null    int64  \n",
      " 10  revenue        308 non-null    float64\n",
      "dtypes: float64(2), int64(6), object(3)\n",
      "memory usage: 26.6+ KB\n"
     ]
    }
   ],
   "source": [
    "marketing.info()"
   ]
  }
 ],
 "metadata": {
  "kernelspec": {
   "display_name": "Python 3",
   "language": "python",
   "name": "python3"
  },
  "language_info": {
   "codemirror_mode": {
    "name": "ipython",
    "version": 3
   },
   "file_extension": ".py",
   "mimetype": "text/x-python",
   "name": "python",
   "nbconvert_exporter": "python",
   "pygments_lexer": "ipython3",
   "version": "3.12.3"
  }
 },
 "nbformat": 4,
 "nbformat_minor": 2
}
